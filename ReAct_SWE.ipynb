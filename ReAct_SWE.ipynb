{
 "cells": [
  {
   "cell_type": "code",
   "execution_count": 1,
   "metadata": {},
   "outputs": [
    {
     "data": {
      "text/plain": [
       "True"
      ]
     },
     "execution_count": 1,
     "metadata": {},
     "output_type": "execute_result"
    }
   ],
   "source": [
    "import dotenv\n",
    "dotenv.load_dotenv()"
   ]
  },
  {
   "cell_type": "code",
   "execution_count": 2,
   "metadata": {},
   "outputs": [
    {
     "name": "stderr",
     "output_type": "stream",
     "text": [
      "/home/codespace/.local/lib/python3.10/site-packages/tqdm/auto.py:21: TqdmWarning: IProgress not found. Please update jupyter and ipywidgets. See https://ipywidgets.readthedocs.io/en/stable/user_install.html\n",
      "  from .autonotebook import tqdm as notebook_tqdm\n"
     ]
    },
    {
     "name": "stdout",
     "output_type": "stream",
     "text": [
      "Dataset({\n",
      "    features: ['repo', 'instance_id', 'base_commit', 'patch', 'test_patch', 'problem_statement', 'hints_text', 'created_at', 'version', 'FAIL_TO_PASS', 'PASS_TO_PASS', 'environment_setup_commit'],\n",
      "    num_rows: 1\n",
      "})\n"
     ]
    },
    {
     "name": "stderr",
     "output_type": "stream",
     "text": [
      "/home/codespace/.local/lib/python3.10/site-packages/langchain_core/load/serializable.py:144: RuntimeWarning: coroutine 'create_tools.<locals>.bash_command.<locals>.run_command_with_timeout' was never awaited\n",
      "  return dict()\n",
      "RuntimeWarning: Enable tracemalloc to get the object allocation traceback\n",
      "/usr/local/python/3.10.13/lib/python3.10/ast.py:422: RuntimeWarning: coroutine 'create_tools.<locals>.bash_command.<locals>.run_command_with_timeout' was never awaited\n",
      "  for field, value in iter_fields(node):\n",
      "RuntimeWarning: Enable tracemalloc to get the object allocation traceback\n",
      "/usr/local/python/3.10.13/lib/python3.10/ast.py:50: RuntimeWarning: coroutine 'create_tools.<locals>.bash_command.<locals>.run_command_with_timeout' was never awaited\n",
      "  return compile(source, filename, mode, flags,\n",
      "RuntimeWarning: Enable tracemalloc to get the object allocation traceback\n",
      "/home/codespace/.local/lib/python3.10/site-packages/pydantic/v1/main.py:1036: RuntimeWarning: coroutine 'create_tools.<locals>.bash_command.<locals>.run_command_with_timeout' was never awaited\n",
      "  values = {}\n",
      "RuntimeWarning: Enable tracemalloc to get the object allocation traceback\n",
      "/home/codespace/.local/lib/python3.10/site-packages/pydantic/v1/validators.py:61: RuntimeWarning: coroutine 'create_tools.<locals>.bash_command.<locals>.run_command_with_timeout' was never awaited\n",
      "  if isinstance(v, Enum):\n",
      "RuntimeWarning: Enable tracemalloc to get the object allocation traceback\n",
      "/home/codespace/.local/lib/python3.10/site-packages/langsmith/run_trees.py:323: RuntimeWarning: coroutine 'create_tools.<locals>.bash_command.<locals>.run_command_with_timeout' was never awaited\n",
      "  from langchain_core.callbacks.manager import (\n",
      "RuntimeWarning: Enable tracemalloc to get the object allocation traceback\n",
      "/home/codespace/.local/lib/python3.10/site-packages/pydantic/v1/main.py:777: RuntimeWarning: coroutine 'create_tools.<locals>.bash_command.<locals>.run_command_with_timeout' was never awaited\n",
      "  seq_args = (\n",
      "RuntimeWarning: Enable tracemalloc to get the object allocation traceback\n",
      "/home/codespace/.local/lib/python3.10/site-packages/langchain_core/runnables/config.py:174: RuntimeWarning: coroutine 'create_tools.<locals>.bash_command.<locals>.run_command_with_timeout' was never awaited\n",
      "  {\n",
      "RuntimeWarning: Enable tracemalloc to get the object allocation traceback\n",
      "/usr/local/python/3.10.13/lib/python3.10/copy.py:230: RuntimeWarning: coroutine 'create_tools.<locals>.bash_command.<locals>.run_command_with_timeout' was never awaited\n",
      "  for key, value in x.items():\n",
      "RuntimeWarning: Enable tracemalloc to get the object allocation traceback\n",
      "/usr/local/python/3.10.13/lib/python3.10/copy.py:230: RuntimeWarning: coroutine 'create_tools.<locals>.bash_command.<locals>.run_command_with_timeout' was never awaited\n",
      "  for key, value in x.items():\n",
      "RuntimeWarning: Enable tracemalloc to get the object allocation traceback\n",
      "/usr/local/python/3.10.13/lib/python3.10/copy.py:172: RuntimeWarning: coroutine 'create_tools.<locals>.bash_command.<locals>.run_command_with_timeout' was never awaited\n",
      "  y = _reconstruct(x, memo, *rv)\n",
      "RuntimeWarning: Enable tracemalloc to get the object allocation traceback\n",
      "/usr/local/python/3.10.13/lib/python3.10/ast.py:424: RuntimeWarning: coroutine 'create_tools.<locals>.bash_command.<locals>.run_command_with_timeout' was never awaited\n",
      "  for item in value:\n",
      "RuntimeWarning: Enable tracemalloc to get the object allocation traceback\n",
      "/usr/local/python/3.10.13/lib/python3.10/copy.py:205: RuntimeWarning: coroutine 'create_tools.<locals>.bash_command.<locals>.run_command_with_timeout' was never awaited\n",
      "  for a in x:\n",
      "RuntimeWarning: Enable tracemalloc to get the object allocation traceback\n",
      "/usr/local/python/3.10.13/lib/python3.10/copy.py:230: RuntimeWarning: coroutine 'create_tools.<locals>.bash_command.<locals>.run_command_with_timeout' was never awaited\n",
      "  for key, value in x.items():\n",
      "RuntimeWarning: Enable tracemalloc to get the object allocation traceback\n",
      "/usr/local/python/3.10.13/lib/python3.10/copy.py:230: RuntimeWarning: coroutine 'create_tools.<locals>.bash_command.<locals>.run_command_with_timeout' was never awaited\n",
      "  for key, value in x.items():\n",
      "RuntimeWarning: Enable tracemalloc to get the object allocation traceback\n",
      "/usr/local/python/3.10.13/lib/python3.10/copy.py:230: RuntimeWarning: coroutine 'create_tools.<locals>.bash_command.<locals>.run_command_with_timeout' was never awaited\n",
      "  for key, value in x.items():\n",
      "RuntimeWarning: Enable tracemalloc to get the object allocation traceback\n",
      "/usr/local/python/3.10.13/lib/python3.10/copy.py:230: RuntimeWarning: coroutine 'create_tools.<locals>.bash_command.<locals>.run_command_with_timeout' was never awaited\n",
      "  for key, value in x.items():\n",
      "RuntimeWarning: Enable tracemalloc to get the object allocation traceback\n",
      "/usr/local/python/3.10.13/lib/python3.10/copy.py:230: RuntimeWarning: coroutine 'create_tools.<locals>.bash_command.<locals>.run_command_with_timeout' was never awaited\n",
      "  for key, value in x.items():\n",
      "RuntimeWarning: Enable tracemalloc to get the object allocation traceback\n",
      "/usr/local/python/3.10.13/lib/python3.10/copy.py:204: RuntimeWarning: coroutine 'create_tools.<locals>.bash_command.<locals>.run_command_with_timeout' was never awaited\n",
      "  append = y.append\n",
      "RuntimeWarning: Enable tracemalloc to get the object allocation traceback\n",
      "/usr/local/python/3.10.13/lib/python3.10/copy.py:205: RuntimeWarning: coroutine 'create_tools.<locals>.bash_command.<locals>.run_command_with_timeout' was never awaited\n",
      "  for a in x:\n",
      "RuntimeWarning: Enable tracemalloc to get the object allocation traceback\n",
      "/home/codespace/.local/lib/python3.10/site-packages/pydantic/v1/main.py:778: RuntimeWarning: coroutine 'create_tools.<locals>.bash_command.<locals>.run_command_with_timeout' was never awaited\n",
      "  cls._get_value(\n",
      "RuntimeWarning: Enable tracemalloc to get the object allocation traceback\n",
      "/usr/local/python/3.10.13/lib/python3.10/copy.py:230: RuntimeWarning: coroutine 'create_tools.<locals>.bash_command.<locals>.run_command_with_timeout' was never awaited\n",
      "  for key, value in x.items():\n",
      "RuntimeWarning: Enable tracemalloc to get the object allocation traceback\n",
      "/usr/local/python/3.10.13/lib/python3.10/copy.py:230: RuntimeWarning: coroutine 'create_tools.<locals>.bash_command.<locals>.run_command_with_timeout' was never awaited\n",
      "  for key, value in x.items():\n",
      "RuntimeWarning: Enable tracemalloc to get the object allocation traceback\n"
     ]
    },
    {
     "name": "stdout",
     "output_type": "stream",
     "text": [
      "[None]\n"
     ]
    }
   ],
   "source": [
    "from datasets import load_dataset\n",
    "swebench = load_dataset('princeton-nlp/SWE-bench', split='test')\n",
    "\n",
    "# Randomly select a test set with 10 samples\n",
    "num_samples = 1\n",
    "test_set = swebench.shuffle(seed=42).select(range(num_samples))\n",
    "\n",
    "print(test_set)\n",
    "\n",
    "from cura.prediction import do_prediction\n",
    "results = []\n",
    "\n",
    "for i in range(num_samples):\n",
    "    results.append(do_prediction(test_set[i]))\n",
    "    \n",
    "print(results)"
   ]
  }
 ],
 "metadata": {
  "kernelspec": {
   "display_name": "Python 3",
   "language": "python",
   "name": "python3"
  },
  "language_info": {
   "codemirror_mode": {
    "name": "ipython",
    "version": 3
   },
   "file_extension": ".py",
   "mimetype": "text/x-python",
   "name": "python",
   "nbconvert_exporter": "python",
   "pygments_lexer": "ipython3",
   "version": "3.10.13"
  }
 },
 "nbformat": 4,
 "nbformat_minor": 2
}
