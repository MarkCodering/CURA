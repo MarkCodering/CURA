{
 "cells": [
  {
   "cell_type": "code",
   "execution_count": null,
   "metadata": {},
   "outputs": [],
   "source": [
    "import dotenv\n",
    "dotenv.load_dotenv()"
   ]
  },
  {
   "cell_type": "code",
   "execution_count": null,
   "metadata": {},
   "outputs": [],
   "source": [
    "from datasets import load_dataset\n",
    "swebench = load_dataset('princeton-nlp/SWE-bench', split='dev')\n",
    "swebench[0]"
   ]
  },
  {
   "cell_type": "code",
   "execution_count": null,
   "metadata": {},
   "outputs": [],
   "source": [
    "from langgraph.graph import StateGraph, add_messages\n",
    "from typing import TypedDict, Annotated\n",
    "from langgraph.prebuilt import create_react_agent\n",
    "from langchain_openai import ChatOpenAI\n",
    "from vm import RepoVM\n",
    "from agent_tools import create_tools\n",
    "\n",
    "\n",
    "def do_prediction(data):\n",
    "    with RepoVM(\n",
    "        image_name=\"swe_img:latest\",\n",
    "        repo_name=data[\"repo\"],\n",
    "        commit_hash=data[\"base_commit\"],\n",
    "    ) as vm:\n",
    "\n",
    "        llm = ChatOpenAI(model=\"gpt-4o-mini\")\n",
    "        tools = create_tools(vm)\n",
    "\n",
    "        agent = create_react_agent(llm, tools=tools.values(), debug=True)\n",
    "\n",
    "        final_state = agent.invoke(\n",
    "            input={\n",
    "                \"messages\": [\n",
    "                    (\n",
    "                        \"system\",\n",
    "                        \"You are an intelligence programmer, and you are going to propose a pull request based on the problem below. You are given several tools to help you with the task. The requested repo has been cloned to the root directory. You can use the tools to view, edit, and create files, and submit the patch.\",\n",
    "                    ),\n",
    "                    (\n",
    "                        \"user\",\n",
    "                        f'Please submit a pull request based on the following problem:\\nRepo: {data[\"repo\"]}\\nProblem: {data[\"problem_statement\"]}\\nHints: {data[\"hints_text\"]}\\nCreated at: {data[\"created_at\"]}\\nNow, start your work.\\n',\n",
    "                    ),\n",
    "                ]\n",
    "            },\n",
    "            config={\"recursion_limit\": 50},\n",
    "        )\n",
    "\n",
    "    return final_state"
   ]
  },
  {
   "cell_type": "code",
   "execution_count": null,
   "metadata": {},
   "outputs": [],
   "source": [
    "result = do_prediction(swebench[0])\n",
    "print(result)"
   ]
  }
 ],
 "metadata": {
  "kernelspec": {
   "display_name": "Python 3",
   "language": "python",
   "name": "python3"
  },
  "language_info": {
   "codemirror_mode": {
    "name": "ipython",
    "version": 3
   },
   "file_extension": ".py",
   "mimetype": "text/x-python",
   "name": "python",
   "nbconvert_exporter": "python",
   "pygments_lexer": "ipython3",
   "version": "3.10.14"
  }
 },
 "nbformat": 4,
 "nbformat_minor": 2
}
