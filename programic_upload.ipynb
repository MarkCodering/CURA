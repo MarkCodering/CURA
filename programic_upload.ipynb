{
 "cells": [
  {
   "cell_type": "code",
   "execution_count": 5,
   "metadata": {},
   "outputs": [],
   "source": [
    "from langsmith import Client\n",
    "import pandas as pd\n",
    "\n",
    "df = pd.read_csv('./swe_bench_verified.csv')\n",
    "\n",
    "client = Client(api_key='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')"
   ]
  },
  {
   "cell_type": "code",
   "execution_count": 6,
   "metadata": {},
   "outputs": [],
   "source": [
    "dataset = client.upload_csv(\n",
    "    csv_file=\"./swe_bench_verified.csv\",\n",
    "    input_keys=list(df.columns),\n",
    "    output_keys=[],\n",
    "    name=\"swe-bench-programatic-upload-cura-v2-verified\",\n",
    "    description=\"SWE-bench dataset\",\n",
    "    data_type=\"kv\"\n",
    ")"
   ]
  }
 ],
 "metadata": {
  "kernelspec": {
   "display_name": ".venv",
   "language": "python",
   "name": "python3"
  },
  "language_info": {
   "codemirror_mode": {
    "name": "ipython",
    "version": 3
   },
   "file_extension": ".py",
   "mimetype": "text/x-python",
   "name": "python",
   "nbconvert_exporter": "python",
   "pygments_lexer": "ipython3",
   "version": "3.12.3"
  }
 },
 "nbformat": 4,
 "nbformat_minor": 2
}
